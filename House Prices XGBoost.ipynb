{
 "cells": [
  {
   "cell_type": "code",
   "execution_count": 44,
   "id": "6be3c53c",
   "metadata": {
    "scrolled": true
   },
   "outputs": [
    {
     "data": {
      "text/html": [
       "<div>\n",
       "<style scoped>\n",
       "    .dataframe tbody tr th:only-of-type {\n",
       "        vertical-align: middle;\n",
       "    }\n",
       "\n",
       "    .dataframe tbody tr th {\n",
       "        vertical-align: top;\n",
       "    }\n",
       "\n",
       "    .dataframe thead th {\n",
       "        text-align: right;\n",
       "    }\n",
       "</style>\n",
       "<table border=\"1\" class=\"dataframe\">\n",
       "  <thead>\n",
       "    <tr style=\"text-align: right;\">\n",
       "      <th></th>\n",
       "      <th>Id</th>\n",
       "      <th>MSSubClass</th>\n",
       "      <th>MSZoning</th>\n",
       "      <th>LotFrontage</th>\n",
       "      <th>LotArea</th>\n",
       "      <th>Street</th>\n",
       "      <th>Alley</th>\n",
       "      <th>LotShape</th>\n",
       "      <th>LandContour</th>\n",
       "      <th>Utilities</th>\n",
       "      <th>...</th>\n",
       "      <th>PoolArea</th>\n",
       "      <th>PoolQC</th>\n",
       "      <th>Fence</th>\n",
       "      <th>MiscFeature</th>\n",
       "      <th>MiscVal</th>\n",
       "      <th>MoSold</th>\n",
       "      <th>YrSold</th>\n",
       "      <th>SaleType</th>\n",
       "      <th>SaleCondition</th>\n",
       "      <th>SalePrice</th>\n",
       "    </tr>\n",
       "  </thead>\n",
       "  <tbody>\n",
       "    <tr>\n",
       "      <th>0</th>\n",
       "      <td>1</td>\n",
       "      <td>60</td>\n",
       "      <td>RL</td>\n",
       "      <td>65.0</td>\n",
       "      <td>8450</td>\n",
       "      <td>Pave</td>\n",
       "      <td>NaN</td>\n",
       "      <td>Reg</td>\n",
       "      <td>Lvl</td>\n",
       "      <td>AllPub</td>\n",
       "      <td>...</td>\n",
       "      <td>0</td>\n",
       "      <td>NaN</td>\n",
       "      <td>NaN</td>\n",
       "      <td>NaN</td>\n",
       "      <td>0</td>\n",
       "      <td>2</td>\n",
       "      <td>2008</td>\n",
       "      <td>WD</td>\n",
       "      <td>Normal</td>\n",
       "      <td>208500</td>\n",
       "    </tr>\n",
       "    <tr>\n",
       "      <th>1</th>\n",
       "      <td>2</td>\n",
       "      <td>20</td>\n",
       "      <td>RL</td>\n",
       "      <td>80.0</td>\n",
       "      <td>9600</td>\n",
       "      <td>Pave</td>\n",
       "      <td>NaN</td>\n",
       "      <td>Reg</td>\n",
       "      <td>Lvl</td>\n",
       "      <td>AllPub</td>\n",
       "      <td>...</td>\n",
       "      <td>0</td>\n",
       "      <td>NaN</td>\n",
       "      <td>NaN</td>\n",
       "      <td>NaN</td>\n",
       "      <td>0</td>\n",
       "      <td>5</td>\n",
       "      <td>2007</td>\n",
       "      <td>WD</td>\n",
       "      <td>Normal</td>\n",
       "      <td>181500</td>\n",
       "    </tr>\n",
       "    <tr>\n",
       "      <th>2</th>\n",
       "      <td>3</td>\n",
       "      <td>60</td>\n",
       "      <td>RL</td>\n",
       "      <td>68.0</td>\n",
       "      <td>11250</td>\n",
       "      <td>Pave</td>\n",
       "      <td>NaN</td>\n",
       "      <td>IR1</td>\n",
       "      <td>Lvl</td>\n",
       "      <td>AllPub</td>\n",
       "      <td>...</td>\n",
       "      <td>0</td>\n",
       "      <td>NaN</td>\n",
       "      <td>NaN</td>\n",
       "      <td>NaN</td>\n",
       "      <td>0</td>\n",
       "      <td>9</td>\n",
       "      <td>2008</td>\n",
       "      <td>WD</td>\n",
       "      <td>Normal</td>\n",
       "      <td>223500</td>\n",
       "    </tr>\n",
       "    <tr>\n",
       "      <th>3</th>\n",
       "      <td>4</td>\n",
       "      <td>70</td>\n",
       "      <td>RL</td>\n",
       "      <td>60.0</td>\n",
       "      <td>9550</td>\n",
       "      <td>Pave</td>\n",
       "      <td>NaN</td>\n",
       "      <td>IR1</td>\n",
       "      <td>Lvl</td>\n",
       "      <td>AllPub</td>\n",
       "      <td>...</td>\n",
       "      <td>0</td>\n",
       "      <td>NaN</td>\n",
       "      <td>NaN</td>\n",
       "      <td>NaN</td>\n",
       "      <td>0</td>\n",
       "      <td>2</td>\n",
       "      <td>2006</td>\n",
       "      <td>WD</td>\n",
       "      <td>Abnorml</td>\n",
       "      <td>140000</td>\n",
       "    </tr>\n",
       "    <tr>\n",
       "      <th>4</th>\n",
       "      <td>5</td>\n",
       "      <td>60</td>\n",
       "      <td>RL</td>\n",
       "      <td>84.0</td>\n",
       "      <td>14260</td>\n",
       "      <td>Pave</td>\n",
       "      <td>NaN</td>\n",
       "      <td>IR1</td>\n",
       "      <td>Lvl</td>\n",
       "      <td>AllPub</td>\n",
       "      <td>...</td>\n",
       "      <td>0</td>\n",
       "      <td>NaN</td>\n",
       "      <td>NaN</td>\n",
       "      <td>NaN</td>\n",
       "      <td>0</td>\n",
       "      <td>12</td>\n",
       "      <td>2008</td>\n",
       "      <td>WD</td>\n",
       "      <td>Normal</td>\n",
       "      <td>250000</td>\n",
       "    </tr>\n",
       "  </tbody>\n",
       "</table>\n",
       "<p>5 rows × 81 columns</p>\n",
       "</div>"
      ],
      "text/plain": [
       "   Id  MSSubClass MSZoning  LotFrontage  LotArea Street Alley LotShape  \\\n",
       "0   1          60       RL         65.0     8450   Pave   NaN      Reg   \n",
       "1   2          20       RL         80.0     9600   Pave   NaN      Reg   \n",
       "2   3          60       RL         68.0    11250   Pave   NaN      IR1   \n",
       "3   4          70       RL         60.0     9550   Pave   NaN      IR1   \n",
       "4   5          60       RL         84.0    14260   Pave   NaN      IR1   \n",
       "\n",
       "  LandContour Utilities  ... PoolArea PoolQC Fence MiscFeature MiscVal MoSold  \\\n",
       "0         Lvl    AllPub  ...        0    NaN   NaN         NaN       0      2   \n",
       "1         Lvl    AllPub  ...        0    NaN   NaN         NaN       0      5   \n",
       "2         Lvl    AllPub  ...        0    NaN   NaN         NaN       0      9   \n",
       "3         Lvl    AllPub  ...        0    NaN   NaN         NaN       0      2   \n",
       "4         Lvl    AllPub  ...        0    NaN   NaN         NaN       0     12   \n",
       "\n",
       "  YrSold  SaleType  SaleCondition  SalePrice  \n",
       "0   2008        WD         Normal     208500  \n",
       "1   2007        WD         Normal     181500  \n",
       "2   2008        WD         Normal     223500  \n",
       "3   2006        WD        Abnorml     140000  \n",
       "4   2008        WD         Normal     250000  \n",
       "\n",
       "[5 rows x 81 columns]"
      ]
     },
     "execution_count": 44,
     "metadata": {},
     "output_type": "execute_result"
    }
   ],
   "source": [
    "import pandas as pd\n",
    "df=pd.read_csv('train.csv')\n",
    "df.head()"
   ]
  },
  {
   "cell_type": "code",
   "execution_count": 45,
   "id": "5b6c6e59",
   "metadata": {},
   "outputs": [
    {
     "data": {
      "text/plain": [
       "{'Id': 0,\n",
       " 'MSSubClass': 0,\n",
       " 'MSZoning': 0,\n",
       " 'LotFrontage': 259,\n",
       " 'LotArea': 0,\n",
       " 'Street': 0,\n",
       " 'Alley': 1369,\n",
       " 'LotShape': 0,\n",
       " 'LandContour': 0,\n",
       " 'Utilities': 0,\n",
       " 'LotConfig': 0,\n",
       " 'LandSlope': 0,\n",
       " 'Neighborhood': 0,\n",
       " 'Condition1': 0,\n",
       " 'Condition2': 0,\n",
       " 'BldgType': 0,\n",
       " 'HouseStyle': 0,\n",
       " 'OverallQual': 0,\n",
       " 'OverallCond': 0,\n",
       " 'YearBuilt': 0,\n",
       " 'YearRemodAdd': 0,\n",
       " 'RoofStyle': 0,\n",
       " 'RoofMatl': 0,\n",
       " 'Exterior1st': 0,\n",
       " 'Exterior2nd': 0,\n",
       " 'MasVnrType': 8,\n",
       " 'MasVnrArea': 8,\n",
       " 'ExterQual': 0,\n",
       " 'ExterCond': 0,\n",
       " 'Foundation': 0,\n",
       " 'BsmtQual': 37,\n",
       " 'BsmtCond': 37,\n",
       " 'BsmtExposure': 38,\n",
       " 'BsmtFinType1': 37,\n",
       " 'BsmtFinSF1': 0,\n",
       " 'BsmtFinType2': 38,\n",
       " 'BsmtFinSF2': 0,\n",
       " 'BsmtUnfSF': 0,\n",
       " 'TotalBsmtSF': 0,\n",
       " 'Heating': 0,\n",
       " 'HeatingQC': 0,\n",
       " 'CentralAir': 0,\n",
       " 'Electrical': 1,\n",
       " '1stFlrSF': 0,\n",
       " '2ndFlrSF': 0,\n",
       " 'LowQualFinSF': 0,\n",
       " 'GrLivArea': 0,\n",
       " 'BsmtFullBath': 0,\n",
       " 'BsmtHalfBath': 0,\n",
       " 'FullBath': 0,\n",
       " 'HalfBath': 0,\n",
       " 'BedroomAbvGr': 0,\n",
       " 'KitchenAbvGr': 0,\n",
       " 'KitchenQual': 0,\n",
       " 'TotRmsAbvGrd': 0,\n",
       " 'Functional': 0,\n",
       " 'Fireplaces': 0,\n",
       " 'FireplaceQu': 690,\n",
       " 'GarageType': 81,\n",
       " 'GarageYrBlt': 81,\n",
       " 'GarageFinish': 81,\n",
       " 'GarageCars': 0,\n",
       " 'GarageArea': 0,\n",
       " 'GarageQual': 81,\n",
       " 'GarageCond': 81,\n",
       " 'PavedDrive': 0,\n",
       " 'WoodDeckSF': 0,\n",
       " 'OpenPorchSF': 0,\n",
       " 'EnclosedPorch': 0,\n",
       " '3SsnPorch': 0,\n",
       " 'ScreenPorch': 0,\n",
       " 'PoolArea': 0,\n",
       " 'PoolQC': 1453,\n",
       " 'Fence': 1179,\n",
       " 'MiscFeature': 1406,\n",
       " 'MiscVal': 0,\n",
       " 'MoSold': 0,\n",
       " 'YrSold': 0,\n",
       " 'SaleType': 0,\n",
       " 'SaleCondition': 0,\n",
       " 'SalePrice': 0}"
      ]
     },
     "execution_count": 45,
     "metadata": {},
     "output_type": "execute_result"
    }
   ],
   "source": [
    "dict(df.isnull().sum())"
   ]
  },
  {
   "cell_type": "code",
   "execution_count": 46,
   "id": "a277b015",
   "metadata": {},
   "outputs": [],
   "source": [
    "#drop columns with nan values more than 80%\n",
    "df.dropna(thresh=0.8*len(df),inplace=True,axis=1)"
   ]
  },
  {
   "cell_type": "code",
   "execution_count": 47,
   "id": "b6063b52",
   "metadata": {},
   "outputs": [
    {
     "data": {
      "text/plain": [
       "{'Id': 0,\n",
       " 'MSSubClass': 0,\n",
       " 'MSZoning': 0,\n",
       " 'LotFrontage': 259,\n",
       " 'LotArea': 0,\n",
       " 'Street': 0,\n",
       " 'LotShape': 0,\n",
       " 'LandContour': 0,\n",
       " 'Utilities': 0,\n",
       " 'LotConfig': 0,\n",
       " 'LandSlope': 0,\n",
       " 'Neighborhood': 0,\n",
       " 'Condition1': 0,\n",
       " 'Condition2': 0,\n",
       " 'BldgType': 0,\n",
       " 'HouseStyle': 0,\n",
       " 'OverallQual': 0,\n",
       " 'OverallCond': 0,\n",
       " 'YearBuilt': 0,\n",
       " 'YearRemodAdd': 0,\n",
       " 'RoofStyle': 0,\n",
       " 'RoofMatl': 0,\n",
       " 'Exterior1st': 0,\n",
       " 'Exterior2nd': 0,\n",
       " 'MasVnrType': 8,\n",
       " 'MasVnrArea': 8,\n",
       " 'ExterQual': 0,\n",
       " 'ExterCond': 0,\n",
       " 'Foundation': 0,\n",
       " 'BsmtQual': 37,\n",
       " 'BsmtCond': 37,\n",
       " 'BsmtExposure': 38,\n",
       " 'BsmtFinType1': 37,\n",
       " 'BsmtFinSF1': 0,\n",
       " 'BsmtFinType2': 38,\n",
       " 'BsmtFinSF2': 0,\n",
       " 'BsmtUnfSF': 0,\n",
       " 'TotalBsmtSF': 0,\n",
       " 'Heating': 0,\n",
       " 'HeatingQC': 0,\n",
       " 'CentralAir': 0,\n",
       " 'Electrical': 1,\n",
       " '1stFlrSF': 0,\n",
       " '2ndFlrSF': 0,\n",
       " 'LowQualFinSF': 0,\n",
       " 'GrLivArea': 0,\n",
       " 'BsmtFullBath': 0,\n",
       " 'BsmtHalfBath': 0,\n",
       " 'FullBath': 0,\n",
       " 'HalfBath': 0,\n",
       " 'BedroomAbvGr': 0,\n",
       " 'KitchenAbvGr': 0,\n",
       " 'KitchenQual': 0,\n",
       " 'TotRmsAbvGrd': 0,\n",
       " 'Functional': 0,\n",
       " 'Fireplaces': 0,\n",
       " 'GarageType': 81,\n",
       " 'GarageYrBlt': 81,\n",
       " 'GarageFinish': 81,\n",
       " 'GarageCars': 0,\n",
       " 'GarageArea': 0,\n",
       " 'GarageQual': 81,\n",
       " 'GarageCond': 81,\n",
       " 'PavedDrive': 0,\n",
       " 'WoodDeckSF': 0,\n",
       " 'OpenPorchSF': 0,\n",
       " 'EnclosedPorch': 0,\n",
       " '3SsnPorch': 0,\n",
       " 'ScreenPorch': 0,\n",
       " 'PoolArea': 0,\n",
       " 'MiscVal': 0,\n",
       " 'MoSold': 0,\n",
       " 'YrSold': 0,\n",
       " 'SaleType': 0,\n",
       " 'SaleCondition': 0,\n",
       " 'SalePrice': 0}"
      ]
     },
     "execution_count": 47,
     "metadata": {},
     "output_type": "execute_result"
    }
   ],
   "source": [
    "dict(df.isnull().sum())"
   ]
  },
  {
   "cell_type": "markdown",
   "id": "6961c74b",
   "metadata": {},
   "source": [
    "## filling nan values for numerical columns"
   ]
  },
  {
   "cell_type": "code",
   "execution_count": 48,
   "id": "6ce8e505",
   "metadata": {},
   "outputs": [],
   "source": [
    "import numpy as np"
   ]
  },
  {
   "cell_type": "code",
   "execution_count": 49,
   "id": "e385e110",
   "metadata": {},
   "outputs": [],
   "source": [
    "#function to handle numerical columns\n",
    "def handle_num_null(df):\n",
    "    num_cols=df.select_dtypes(include=[np.number]).columns\n",
    "    for col in num_cols:\n",
    "        med=df[col].median()\n",
    "        df[col].fillna(med,inplace=True)\n",
    "\n",
    "    print(df.select_dtypes(include=[np.number]).isna().sum())\n",
    "    return df"
   ]
  },
  {
   "cell_type": "code",
   "execution_count": 50,
   "id": "f92238ef",
   "metadata": {
    "scrolled": true
   },
   "outputs": [
    {
     "name": "stdout",
     "output_type": "stream",
     "text": [
      "Id               0\n",
      "MSSubClass       0\n",
      "LotFrontage      0\n",
      "LotArea          0\n",
      "OverallQual      0\n",
      "OverallCond      0\n",
      "YearBuilt        0\n",
      "YearRemodAdd     0\n",
      "MasVnrArea       0\n",
      "BsmtFinSF1       0\n",
      "BsmtFinSF2       0\n",
      "BsmtUnfSF        0\n",
      "TotalBsmtSF      0\n",
      "1stFlrSF         0\n",
      "2ndFlrSF         0\n",
      "LowQualFinSF     0\n",
      "GrLivArea        0\n",
      "BsmtFullBath     0\n",
      "BsmtHalfBath     0\n",
      "FullBath         0\n",
      "HalfBath         0\n",
      "BedroomAbvGr     0\n",
      "KitchenAbvGr     0\n",
      "TotRmsAbvGrd     0\n",
      "Fireplaces       0\n",
      "GarageYrBlt      0\n",
      "GarageCars       0\n",
      "GarageArea       0\n",
      "WoodDeckSF       0\n",
      "OpenPorchSF      0\n",
      "EnclosedPorch    0\n",
      "3SsnPorch        0\n",
      "ScreenPorch      0\n",
      "PoolArea         0\n",
      "MiscVal          0\n",
      "MoSold           0\n",
      "YrSold           0\n",
      "SalePrice        0\n",
      "dtype: int64\n"
     ]
    }
   ],
   "source": [
    "df=handle_num_null(df)"
   ]
  },
  {
   "cell_type": "markdown",
   "id": "4f8cea5b",
   "metadata": {},
   "source": [
    "## filling nan values for categorical columns"
   ]
  },
  {
   "cell_type": "code",
   "execution_count": 51,
   "id": "052d7a99",
   "metadata": {},
   "outputs": [],
   "source": [
    "#function to handle categorical columns\n",
    "def hangle_catg_null(df):\n",
    "    cat_cols=df.select_dtypes(include=[object]).columns\n",
    "\n",
    "    for col in cat_cols:\n",
    "        df[col]=df[col].astype(str)\n",
    "        mod=df[col].mode()\n",
    "        df[col].fillna(mod,inplace=True)\n",
    "\n",
    "        #convert column catagories to nums\n",
    "        col_vals=df[col].unique()\n",
    "        i=0\n",
    "        for label in col_vals:\n",
    "            df[col].replace(label,i,inplace=True)\n",
    "            i+=1\n",
    "    return df\n",
    "\n",
    "        \n",
    "    "
   ]
  },
  {
   "cell_type": "code",
   "execution_count": 52,
   "id": "eef4c069",
   "metadata": {},
   "outputs": [],
   "source": [
    "#filling nan values for categorical columns\n",
    "df=hangle_catg_null(df)"
   ]
  },
  {
   "cell_type": "markdown",
   "id": "f4dbb717",
   "metadata": {},
   "source": [
    "## Feature Reduction"
   ]
  },
  {
   "cell_type": "code",
   "execution_count": 53,
   "id": "f9e188c4",
   "metadata": {},
   "outputs": [],
   "source": [
    "#function for feature reduction based on highly correlated features\n",
    "def corr_reduction(df,thresh):\n",
    "    df_corr_mat=df.corr()\n",
    "    correlated_features=set()\n",
    "    for i in range(len(df_corr_mat.columns)):\n",
    "        for j in range(i):\n",
    "            if abs(df_corr_mat.iloc[i, j]) > thresh:\n",
    "                print(df_corr_mat.columns[i],\" ,is highly correlated with, \",df_corr_mat.columns[j])\n",
    "                colname = df_corr_mat.columns[i]\n",
    "                correlated_features.add(colname)\n",
    "    \n",
    "    df.drop(columns=correlated_features,axis=1,inplace=True)\n",
    "    print(correlated_features,' are removed from data')\n",
    "\n",
    "\n",
    "    return df"
   ]
  },
  {
   "cell_type": "code",
   "execution_count": 54,
   "id": "686d06c4",
   "metadata": {},
   "outputs": [
    {
     "name": "stdout",
     "output_type": "stream",
     "text": [
      "the shape of data before feature reduction is:  (1460, 76)\n",
      "**************************************************************************\n",
      "1stFlrSF  ,is highly correlated with,  TotalBsmtSF\n",
      "TotRmsAbvGrd  ,is highly correlated with,  GrLivArea\n",
      "GarageArea  ,is highly correlated with,  GarageCars\n",
      "GarageCond  ,is highly correlated with,  GarageQual\n",
      "{'GarageArea', 'TotRmsAbvGrd', 'GarageCond', '1stFlrSF'}  are removed from data\n",
      "**************************************************************************\n",
      "the shape of data after feature reduction is:  (1460, 72)\n"
     ]
    }
   ],
   "source": [
    "#feature reduction\n",
    "print(\"the shape of data before feature reduction is: \",df.shape)\n",
    "print(\"**************************************************************************\")\n",
    "df=corr_reduction(df,0.8)\n",
    "print(\"**************************************************************************\")\n",
    "\n",
    "print(\"the shape of data after feature reduction is: \",df.shape)\n"
   ]
  },
  {
   "cell_type": "markdown",
   "id": "34a67f11",
   "metadata": {},
   "source": [
    "## Feature Selection "
   ]
  },
  {
   "cell_type": "code",
   "execution_count": 55,
   "id": "b1c9a49c",
   "metadata": {},
   "outputs": [],
   "source": [
    "# function for feature selection based on correlation with the target \n",
    "\n",
    "def corr_feature_selection(df,target_name,thresh):\n",
    "    df_cor=pd.DataFrame(columns=['correlation with '+target_name])\n",
    "\n",
    "    for col in df.columns:\n",
    "        if col!=target_name:\n",
    "            df_cor.loc[col]=abs(df[target_name].corr(df.loc[:,col]))\n",
    "\n",
    "    df_cor.sort_values(by=['correlation with '+target_name],inplace=True,ascending=False)\n",
    "    \n",
    "    \n",
    "    #feature selection based on correlation with target\n",
    "    final_columns=[]\n",
    "    for i in df_cor.index:\n",
    "        if df_cor.loc[i,'correlation with '+target_name]>thresh:\n",
    "            final_columns.append(i)\n",
    "          \n",
    "    final_columns.append(target_name)\n",
    "    df=df.loc[:,final_columns]\n",
    "    return df,df_cor\n",
    "\n",
    "    "
   ]
  },
  {
   "cell_type": "code",
   "execution_count": 56,
   "id": "c011c73e",
   "metadata": {},
   "outputs": [
    {
     "name": "stdout",
     "output_type": "stream",
     "text": [
      "the shape of data before feature selection is:  (1460, 72)\n",
      "**************************************************************************\n",
      "             correlation with SalePrice\n",
      "OverallQual                    0.790982\n",
      "GrLivArea                      0.708624\n",
      "GarageCars                     0.640409\n",
      "TotalBsmtSF                    0.613581\n",
      "FullBath                       0.560664\n",
      "**************************************************************************\n",
      "   OverallQual  GrLivArea  GarageCars  TotalBsmtSF  FullBath  YearBuilt  \\\n",
      "0            7       1710           2          856         2       2003   \n",
      "1            6       1262           2         1262         2       1976   \n",
      "2            7       1786           2          920         2       2001   \n",
      "3            7       1717           3          756         1       1915   \n",
      "4            8       2198           3         1145         2       2000   \n",
      "\n",
      "   YearRemodAdd  MasVnrArea  Fireplaces  GarageYrBlt  ...  Heating  PoolArea  \\\n",
      "0          2003       196.0           0       2003.0  ...        0         0   \n",
      "1          1976         0.0           1       1976.0  ...        0         0   \n",
      "2          2002       162.0           1       2001.0  ...        0         0   \n",
      "3          1970         0.0           1       1998.0  ...        0         0   \n",
      "4          2000       350.0           1       2000.0  ...        0         0   \n",
      "\n",
      "   LandContour  MSSubClass  BsmtQual  BsmtFinType2  OverallCond  SaleType  \\\n",
      "0            0          60         0             0            5         0   \n",
      "1            0          20         0             0            8         0   \n",
      "2            0          60         0             0            5         0   \n",
      "3            0          70         1             0            5         0   \n",
      "4            0          60         0             0            5         0   \n",
      "\n",
      "   LandSlope  SalePrice  \n",
      "0          0     208500  \n",
      "1          0     181500  \n",
      "2          0     223500  \n",
      "3          0     140000  \n",
      "4          0     250000  \n",
      "\n",
      "[5 rows x 57 columns]\n",
      "**************************************************************************\n",
      "the shape of data after feature selection is:  (1460, 57)\n"
     ]
    }
   ],
   "source": [
    "#feature selection based on correlation with target feature SalePrice\n",
    "\n",
    "print(\"the shape of data before feature selection is: \",df.shape)\n",
    "df,df_corr=corr_feature_selection(df,'SalePrice',0.05)\n",
    "print(\"**************************************************************************\")\n",
    "print(df_corr.head())\n",
    "print(\"**************************************************************************\")\n",
    "print(df.head())\n",
    "print(\"**************************************************************************\")\n",
    "print(\"the shape of data after feature selection is: \",df.shape)\n"
   ]
  },
  {
   "cell_type": "markdown",
   "id": "a47c787e",
   "metadata": {},
   "source": [
    "## Data Splitting"
   ]
  },
  {
   "cell_type": "code",
   "execution_count": 57,
   "id": "bbb840ec",
   "metadata": {},
   "outputs": [],
   "source": [
    "y=df['SalePrice'].values\n",
    "X=df.drop(columns=['SalePrice'],axis=1).values"
   ]
  },
  {
   "cell_type": "code",
   "execution_count": 58,
   "id": "8d711899",
   "metadata": {},
   "outputs": [],
   "source": [
    "from sklearn.model_selection import train_test_split\n",
    "X_train,X_test,y_train,y_test=train_test_split(X,y,random_state=0,test_size=0.33)"
   ]
  },
  {
   "cell_type": "markdown",
   "id": "bb16347f",
   "metadata": {},
   "source": [
    "## Regression Models"
   ]
  },
  {
   "cell_type": "code",
   "execution_count": 59,
   "id": "cfa16d5f",
   "metadata": {},
   "outputs": [],
   "source": [
    "import warnings\n",
    "warnings.filterwarnings('ignore')"
   ]
  },
  {
   "cell_type": "code",
   "execution_count": 60,
   "id": "7bc770d9",
   "metadata": {},
   "outputs": [],
   "source": [
    "#datafrome to store models details\n",
    "models_df=pd.DataFrame(columns=['train_acc','test_acc'])\n",
    "\n",
    "def train_model(model_name,model,X_train=X_train,y_train=y_train,X_test=X_test,y_test=y_test):\n",
    "    #train model on train data\n",
    "    model.fit(X_train,y_train)\n",
    "    \n",
    "    #train accuracy using accuracy score metric\n",
    "    train_acc=round(model.score(X_train,y_train),2)*100\n",
    "    print(\"training accuracy = \",train_acc)\n",
    "\n",
    "    \n",
    "    #test accuracy using accuracy score metric\n",
    "    test_acc=round(model.score(X_test,y_test),2)*100\n",
    "    print(\"testing accuracy = \",test_acc)\n",
    "\n",
    "    \n",
    "    #adding the model details to models data frame\n",
    "    models_df.loc[model_name]=[train_acc,test_acc]\n",
    "\n"
   ]
  },
  {
   "cell_type": "code",
   "execution_count": 61,
   "id": "cf4b8b3d",
   "metadata": {},
   "outputs": [
    {
     "name": "stdout",
     "output_type": "stream",
     "text": [
      "training accuracy =  98.0\n",
      "testing accuracy =  87.0\n"
     ]
    }
   ],
   "source": [
    "from sklearn.ensemble import RandomForestRegressor\n",
    "\n",
    "rf = RandomForestRegressor(n_estimators=500, random_state=0).fit(X_train, y_train)\n",
    "\n",
    "train_model('Random Forest',rf)"
   ]
  },
  {
   "cell_type": "code",
   "execution_count": 62,
   "id": "e7dcb4eb",
   "metadata": {},
   "outputs": [],
   "source": [
    "from xgboost import XGBRegressor"
   ]
  },
  {
   "cell_type": "code",
   "execution_count": 63,
   "id": "7b59a875",
   "metadata": {},
   "outputs": [],
   "source": [
    "xgb =XGBRegressor(n_estimators=100, learning_rate=0.25, gamma=0, subsample=0.75,colsample_bytree=1, max_depth=5)"
   ]
  },
  {
   "cell_type": "code",
   "execution_count": 64,
   "id": "6e0b5ce5",
   "metadata": {},
   "outputs": [
    {
     "name": "stdout",
     "output_type": "stream",
     "text": [
      "training accuracy =  100.0\n",
      "testing accuracy =  90.0\n"
     ]
    }
   ],
   "source": [
    "xgp=xgb.fit(X_train,y_train)\n",
    "train_model('XGBoost',xgp)"
   ]
  },
  {
   "cell_type": "code",
   "execution_count": null,
   "id": "d60485f9",
   "metadata": {},
   "outputs": [],
   "source": []
  },
  {
   "cell_type": "code",
   "execution_count": null,
   "id": "df3f8605",
   "metadata": {},
   "outputs": [],
   "source": []
  }
 ],
 "metadata": {
  "kernelspec": {
   "display_name": "Python 3 (ipykernel)",
   "language": "python",
   "name": "python3"
  },
  "language_info": {
   "codemirror_mode": {
    "name": "ipython",
    "version": 3
   },
   "file_extension": ".py",
   "mimetype": "text/x-python",
   "name": "python",
   "nbconvert_exporter": "python",
   "pygments_lexer": "ipython3",
   "version": "3.9.7"
  }
 },
 "nbformat": 4,
 "nbformat_minor": 5
}
